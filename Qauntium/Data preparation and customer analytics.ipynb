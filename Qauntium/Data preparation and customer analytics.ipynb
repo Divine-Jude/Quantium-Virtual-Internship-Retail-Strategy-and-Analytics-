{
 "cells": [
  {
   "cell_type": "markdown",
   "id": "4096d898-db5d-4acf-929e-c11d6f6f3b94",
   "metadata": {},
   "source": [
    "# Title: Quantium Virtual Internship - Retail Strategy and Analytics - Task 1"
   ]
  },
  {
   "cell_type": "markdown",
   "id": "9a7b3492-7cb9-4807-94fe-7670bc5d8570",
   "metadata": {},
   "source": [
    "## Transaction Data"
   ]
  },
  {
   "cell_type": "code",
   "execution_count": null,
   "id": "fd9e16c5",
   "metadata": {},
   "outputs": [],
   "source": [
    "#install required libraries\n",
    "! pip install openpyxl"
   ]
  },
  {
   "cell_type": "code",
   "execution_count": null,
   "id": "e39c0aca-3066-47fd-81a7-92c99cf54498",
   "metadata": {},
   "outputs": [],
   "source": [
    "# import libraries\n",
    "import openpyxl\n",
    "import numpy as np\n",
    "import pandas as pd\n",
    "import matplotlib.pyplot as plt\n",
    "import seaborn as sns\n",
    "import datetime\n",
    "import re\n",
    "import plotly.express as px\n"
   ]
  },
  {
   "attachments": {},
   "cell_type": "markdown",
   "id": "aae5b926",
   "metadata": {},
   "source": [
    "In this example, we loaded an Excel file called 'example.xlsx' using the openpyxl.load_workbook() function, selected the active worksheet using the workbook.active property, and printed the value of the cell A1 using the worksheet['A1'].value syntax."
   ]
  },
  {
   "cell_type": "code",
   "execution_count": null,
   "id": "042c1a1a",
   "metadata": {},
   "outputs": [],
   "source": [
    "# Load the workbook\n",
    "workbook = openpyxl.load_workbook(\"QVI_transaction_data.xlsx\")\n",
    "\n",
    "# Select the worksheet\n",
    "worksheet = workbook.active"
   ]
  },
  {
   "attachments": {},
   "cell_type": "markdown",
   "id": "b76f453e-138e-498f-b064-853ddc204a87",
   "metadata": {},
   "source": [
    "\n",
    "**Read Data**\n",
    "\n",
    "We use pandas.read_excel() function to read the csv file"
   ]
  },
  {
   "cell_type": "code",
   "execution_count": null,
   "id": "3401a664-ad4c-4ff1-b03d-8e0d681b0ba4",
   "metadata": {},
   "outputs": [],
   "source": [
    "df = pd.read_excel('QVI_transaction_data.xlsx')\n",
    "\n",
    "df.head(10)\n"
   ]
  }
 ],
 "metadata": {
  "kernelspec": {
   "display_name": "Python 3",
   "language": "python",
   "name": "python3"
  },
  "language_info": {
   "codemirror_mode": {
    "name": "ipython",
    "version": 3
   },
   "file_extension": ".py",
   "mimetype": "text/x-python",
   "name": "python",
   "nbconvert_exporter": "python",
   "pygments_lexer": "ipython3",
   "version": "3.10.4"
  },
  "widgets": {
   "application/vnd.jupyter.widget-state+json": {
    "state": {},
    "version_major": 2,
    "version_minor": 0
   }
  }
 },
 "nbformat": 4,
 "nbformat_minor": 5
}
